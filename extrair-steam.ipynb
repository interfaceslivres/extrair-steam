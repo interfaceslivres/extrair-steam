{
 "cells": [
  {
   "cell_type": "code",
   "execution_count": 1,
   "id": "ecb94323-81ee-4a89-824f-85c8ae9b30e3",
   "metadata": {},
   "outputs": [],
   "source": [
    "import requests\n",
    "import pandas as pd\n",
    "\n",
    "# Configuração inicial\n",
    "app_id = \"251130\"  # Substitua APP_ID pelo ID real do jogo\n",
    "nome_do_jogo = \"Chroma Squad\"  # Substitua \"Nome do Jogo\" pelo nome real do jogo\n",
    "num_per_page = 100  # Pode ser ajustado até um máximo de 100\n",
    "tipo = \"positive\"\n",
    "#tipo = \"negative\""
   ]
  },
  {
   "cell_type": "code",
   "execution_count": 2,
   "id": "fb75291a-32e5-455c-93b8-8b72abd2e75a",
   "metadata": {},
   "outputs": [
    {
     "name": "stdout",
     "output_type": "stream",
     "text": [
      "Arquivo 'jogo_251130_steam_positive_ptBR.csv' salvo com sucesso.\n"
     ]
    }
   ],
   "source": [
    "\n",
    "url = f\"https://store.steampowered.com/appreviews/{app_id}?json=1&filter=recent&language=brazilian&num_per_page={num_per_page}&review_type={tipo}\"\n",
    "\n",
    "# Fazendo a requisição para a API POSITIVO\n",
    "response = requests.get(url)\n",
    "data = response.json()\n",
    "\n",
    "# Verificando se a resposta contém reviews\n",
    "if 'reviews' in data:\n",
    "    reviews_data = data['reviews']\n",
    "    \n",
    "    # Extraindo informações relevantes\n",
    "    reviews_list = [{\n",
    "        'nome_do_jogo': nome_do_jogo,\n",
    "        'tipo_do_review': tipo,\n",
    "        'review_id': review['recommendationid'],\n",
    "        'author_steamid': review['author']['steamid'],\n",
    "        'review': review['review'],\n",
    "        'data_de_atualizacao': review['timestamp_updated'],\n",
    "        'votes_up': review['votes_up'],\n",
    "        'votes_funny': review['votes_funny'],\n",
    "        'comment_count': review['comment_count'],\n",
    "        'steam_purchase': review['steam_purchase'],\n",
    "        'received_for_free': review['received_for_free'],\n",
    "        'written_during_early_access': review['written_during_early_access']\n",
    "    } for review in reviews_data]\n",
    "    \n",
    "    # Convertendo para DataFrame\n",
    "    df_reviews = pd.DataFrame(reviews_list)\n",
    "    \n",
    "    # Salvando os dados em um arquivo CSV\n",
    "    csv_file_name = f\"jogo_{app_id}_steam_{tipo}_ptBR.csv\"\n",
    "    df_reviews.to_csv(csv_file_name, index=False)\n",
    "    print(f\"Arquivo '{csv_file_name}' salvo com sucesso.\")\n",
    "else:\n",
    "    print(\"Nenhuma review positiva em pt-BR foi encontrada ou houve um erro na requisição.\")\n"
   ]
  }
 ],
 "metadata": {
  "kernelspec": {
   "display_name": "Python 3 (ipykernel)",
   "language": "python",
   "name": "python3"
  },
  "language_info": {
   "codemirror_mode": {
    "name": "ipython",
    "version": 3
   },
   "file_extension": ".py",
   "mimetype": "text/x-python",
   "name": "python",
   "nbconvert_exporter": "python",
   "pygments_lexer": "ipython3",
   "version": "3.10.9"
  }
 },
 "nbformat": 4,
 "nbformat_minor": 5
}
